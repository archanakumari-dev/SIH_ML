{
 "cells": [
  {
   "cell_type": "markdown",
   "id": "abe030d1",
   "metadata": {},
   "source": [
    "### we have to show classifcation_accuracy on the website"
   ]
  },
  {
   "cell_type": "code",
   "execution_count": 1,
   "id": "5256dc91",
   "metadata": {},
   "outputs": [],
   "source": [
    "import pandas as pd\n",
    "import numpy as np\n",
    "import seaborn as sns\n",
    "import matplotlib.pyplot as plt\n",
    "from sklearn.ensemble import RandomForestClassifier\n",
    "from sklearn.cluster import DBSCAN\n",
    "from sklearn.model_selection import train_test_split\n",
    "from sklearn.metrics import classification_report"
   ]
  },
  {
   "cell_type": "markdown",
   "id": "b0560af8",
   "metadata": {},
   "source": [
    "### Classification for the known species labelling\n",
    "### Clustering for identifying novel taxa(new species)"
   ]
  },
  {
   "cell_type": "code",
   "execution_count": 2,
   "id": "f4588bce",
   "metadata": {},
   "outputs": [
    {
     "data": {
      "text/html": [
       "<div>\n",
       "<style scoped>\n",
       "    .dataframe tbody tr th:only-of-type {\n",
       "        vertical-align: middle;\n",
       "    }\n",
       "\n",
       "    .dataframe tbody tr th {\n",
       "        vertical-align: top;\n",
       "    }\n",
       "\n",
       "    .dataframe thead th {\n",
       "        text-align: right;\n",
       "    }\n",
       "</style>\n",
       "<table border=\"1\" class=\"dataframe\">\n",
       "  <thead>\n",
       "    <tr style=\"text-align: right;\">\n",
       "      <th></th>\n",
       "      <th>id</th>\n",
       "      <th>sequence</th>\n",
       "    </tr>\n",
       "  </thead>\n",
       "  <tbody>\n",
       "    <tr>\n",
       "      <th>0</th>\n",
       "      <td>NC_001988.2</td>\n",
       "      <td>GATTGTATAATGCAATTATAGCATATTTAGGAGGTATTTAAAATGA...</td>\n",
       "    </tr>\n",
       "    <tr>\n",
       "      <th>1</th>\n",
       "      <td>NC_009131.1</td>\n",
       "      <td>CAGATCAACAAAGGCCACAAACGCCGCTTCGTTTCCTTCCTCGCGG...</td>\n",
       "    </tr>\n",
       "    <tr>\n",
       "      <th>2</th>\n",
       "      <td>NC_019098.1</td>\n",
       "      <td>GTAGAGTTTCAGGGTAACAGGGGATGTTTATGTCGGTTTTCCACAA...</td>\n",
       "    </tr>\n",
       "    <tr>\n",
       "      <th>3</th>\n",
       "      <td>NC_020278.2</td>\n",
       "      <td>CTTCGCGTTGCTCAGTTGTCCAACCCCGGAAACGGGAAAAAGCAAG...</td>\n",
       "    </tr>\n",
       "    <tr>\n",
       "      <th>4</th>\n",
       "      <td>NC_022374.1</td>\n",
       "      <td>ATGGATAAGTTGCTGAACAAAAAGATAAAAGTTAAGCAGTCTAACG...</td>\n",
       "    </tr>\n",
       "  </tbody>\n",
       "</table>\n",
       "</div>"
      ],
      "text/plain": [
       "            id                                           sequence\n",
       "0  NC_001988.2  GATTGTATAATGCAATTATAGCATATTTAGGAGGTATTTAAAATGA...\n",
       "1  NC_009131.1  CAGATCAACAAAGGCCACAAACGCCGCTTCGTTTCCTTCCTCGCGG...\n",
       "2  NC_019098.1  GTAGAGTTTCAGGGTAACAGGGGATGTTTATGTCGGTTTTCCACAA...\n",
       "3  NC_020278.2  CTTCGCGTTGCTCAGTTGTCCAACCCCGGAAACGGGAAAAAGCAAG...\n",
       "4  NC_022374.1  ATGGATAAGTTGCTGAACAAAAAGATAAAAGTTAAGCAGTCTAACG..."
      ]
     },
     "execution_count": 2,
     "metadata": {},
     "output_type": "execute_result"
    }
   ],
   "source": [
    "df=pd.read_csv('plasmids.csv')\n",
    "df.head()"
   ]
  },
  {
   "cell_type": "code",
   "execution_count": 3,
   "id": "683393ab",
   "metadata": {},
   "outputs": [
    {
     "data": {
      "text/plain": [
       "(1609, 2)"
      ]
     },
     "execution_count": 3,
     "metadata": {},
     "output_type": "execute_result"
    }
   ],
   "source": [
    "df.shape"
   ]
  },
  {
   "cell_type": "code",
   "execution_count": 4,
   "id": "76d430ce",
   "metadata": {},
   "outputs": [
    {
     "data": {
      "text/plain": [
       "0    GATTGTATAATGCAATTATAGCATATTTAGGAGGTATTTAAAATGA...\n",
       "1    CAGATCAACAAAGGCCACAAACGCCGCTTCGTTTCCTTCCTCGCGG...\n",
       "2    GTAGAGTTTCAGGGTAACAGGGGATGTTTATGTCGGTTTTCCACAA...\n",
       "3    CTTCGCGTTGCTCAGTTGTCCAACCCCGGAAACGGGAAAAAGCAAG...\n",
       "4    ATGGATAAGTTGCTGAACAAAAAGATAAAAGTTAAGCAGTCTAACG...\n",
       "Name: sequence, dtype: object"
      ]
     },
     "execution_count": 4,
     "metadata": {},
     "output_type": "execute_result"
    }
   ],
   "source": [
    "df['sequence'].head()"
   ]
  },
  {
   "cell_type": "code",
   "execution_count": 39,
   "id": "6b27294b",
   "metadata": {},
   "outputs": [
    {
     "name": "stdout",
     "output_type": "stream",
     "text": [
      "Processing batch 0 to 20 ...\n",
      "Processing batch 20 to 40 ...\n",
      "Processing batch 40 to 60 ...\n",
      "Processing batch 60 to 80 ...\n",
      "Processing batch 80 to 100 ...\n",
      "Processing batch 100 to 120 ...\n",
      "Processing batch 120 to 140 ...\n",
      "Processing batch 140 to 160 ...\n",
      "Processing batch 160 to 180 ...\n",
      "Processing batch 180 to 200 ...\n",
      "Processing batch 200 to 220 ...\n",
      "Processing batch 220 to 240 ...\n",
      "Processing batch 240 to 260 ...\n",
      "Processing batch 260 to 280 ...\n",
      "Processing batch 280 to 300 ...\n",
      "Processing batch 300 to 320 ...\n",
      "Processing batch 320 to 340 ...\n",
      "Processing batch 340 to 360 ...\n",
      "Processing batch 360 to 380 ...\n",
      "Processing batch 380 to 400 ...\n",
      "Processing batch 400 to 420 ...\n",
      "Processing batch 420 to 440 ...\n",
      "Processing batch 440 to 460 ...\n",
      "Processing batch 460 to 480 ...\n",
      "Processing batch 480 to 500 ...\n",
      "Processing batch 500 to 520 ...\n",
      "Processing batch 520 to 540 ...\n",
      "Processing batch 540 to 560 ...\n",
      "Processing batch 560 to 580 ...\n",
      "Processing batch 580 to 600 ...\n",
      "Processing batch 600 to 620 ...\n",
      "Processing batch 620 to 640 ...\n",
      "Processing batch 640 to 660 ...\n",
      "Processing batch 660 to 680 ...\n",
      "Processing batch 680 to 700 ...\n",
      "Processing batch 700 to 720 ...\n",
      "Processing batch 720 to 740 ...\n",
      "Processing batch 740 to 760 ...\n",
      "Processing batch 760 to 780 ...\n",
      "Processing batch 780 to 800 ...\n",
      "Processing batch 800 to 820 ...\n",
      "Processing batch 820 to 840 ...\n",
      "Processing batch 840 to 860 ...\n",
      "Processing batch 860 to 880 ...\n",
      "Processing batch 880 to 900 ...\n",
      "Processing batch 900 to 920 ...\n",
      "Processing batch 920 to 940 ...\n",
      "Processing batch 940 to 960 ...\n",
      "Processing batch 960 to 980 ...\n",
      "Processing batch 980 to 1000 ...\n",
      "Processing batch 1000 to 1020 ...\n",
      "Processing batch 1020 to 1040 ...\n",
      "Processing batch 1040 to 1060 ...\n",
      "Processing batch 1060 to 1080 ...\n",
      "Processing batch 1080 to 1100 ...\n",
      "Processing batch 1100 to 1120 ...\n",
      "Processing batch 1120 to 1140 ...\n",
      "Processing batch 1140 to 1160 ...\n",
      "Processing batch 1160 to 1180 ...\n",
      "Processing batch 1180 to 1200 ...\n",
      "Processing batch 1200 to 1220 ...\n",
      "Processing batch 1220 to 1240 ...\n",
      "Processing batch 1240 to 1260 ...\n",
      "Processing batch 1260 to 1280 ...\n",
      "Processing batch 1280 to 1300 ...\n",
      "Processing batch 1300 to 1320 ...\n",
      "Processing batch 1320 to 1340 ...\n",
      "Processing batch 1340 to 1360 ...\n",
      "Processing batch 1360 to 1380 ...\n",
      "Processing batch 1380 to 1400 ...\n",
      "Processing batch 1400 to 1420 ...\n",
      "Processing batch 1420 to 1440 ...\n",
      "Processing batch 1440 to 1460 ...\n",
      "Processing batch 1460 to 1480 ...\n",
      "Processing batch 1480 to 1500 ...\n",
      "Processing batch 1500 to 1520 ...\n",
      "Processing batch 1520 to 1540 ...\n",
      "Processing batch 1540 to 1560 ...\n",
      "Processing batch 1560 to 1580 ...\n",
      "Processing batch 1580 to 1600 ...\n",
      "Processing batch 1600 to 1609 ...\n",
      "            id                              species\n",
      "0  NC_001988.2  Clostridium acetobutylicum ATCC 824\n",
      "1  NC_009131.1                     Escherichia coli\n",
      "2  NC_019098.1                     Escherichia coli\n",
      "3  NC_020278.2                     Escherichia coli\n",
      "4  NC_022374.1                     Escherichia coli\n"
     ]
    }
   ],
   "source": [
    "from Bio import Entrez\n",
    "import time\n",
    "\n",
    "Entrez.email = \"prateekyash0610@gmail.com\"  # Replace with your email for NCBI compliance\n",
    "\n",
    "def fetch_species_batch(accessions):\n",
    "    # Flatten and sanitize input: ensure all items are strings and no nested lists\n",
    "    flat_accessions = []\n",
    "    for acc in accessions:\n",
    "        if isinstance(acc, list):\n",
    "            flat_accessions.extend([str(a) for a in acc])\n",
    "        else:\n",
    "            flat_accessions.append(str(acc))\n",
    "\n",
    "    # Remove duplicates for efficiency\n",
    "    unique_accessions = list(set(flat_accessions))\n",
    "    # Create comma-separated accession list, trimming version suffix (after '.')\n",
    "    ids = \",\".join([a.split('.')[0] for a in unique_accessions])\n",
    "\n",
    "    try:\n",
    "        handle = Entrez.efetch(db=\"nucleotide\", id=ids, rettype=\"gb\", retmode=\"text\")\n",
    "        records = handle.read()\n",
    "        handle.close()\n",
    "    except Exception as e:\n",
    "        print(f\"Entrez fetch error: {e}\")\n",
    "        return {}\n",
    "\n",
    "    result = {}\n",
    "    # Split records on GenBank record separator\n",
    "    for rec in records.split('\\n//\\n'):\n",
    "        lines = rec.split('\\n')\n",
    "        org = None\n",
    "        acc = None\n",
    "        for line in lines:\n",
    "            if line.startswith('VERSION'):\n",
    "                acc = line.split()[1].split('.')[0]\n",
    "            if line.startswith('  ORGANISM'):\n",
    "                org = line.strip().replace('ORGANISM  ', '')\n",
    "                break\n",
    "        if acc and org:\n",
    "            result[acc] = org\n",
    "    return result\n",
    "\n",
    "def map_species(df, accession_col='id', batch_size=20, delay=0.4):\n",
    "    all_accessions = df[accession_col].tolist()\n",
    "    species_map = {}\n",
    "\n",
    "    for i in range(0, len(all_accessions), batch_size):\n",
    "        batch = all_accessions[i:i+batch_size]\n",
    "        print(f\"Processing batch {i} to {i+len(batch)} ...\")\n",
    "        species_map.update(fetch_species_batch(batch))\n",
    "        time.sleep(delay)  # NCBI recommends ≤3 requests/sec\n",
    "    \n",
    "    # Map original dataframe column to species, default Unknown if not found\n",
    "    df['species'] = df[accession_col].apply(lambda x: species_map.get(str(x).split('.')[0], 'Unknown'))\n",
    "    return df\n",
    "\n",
    "# Usage example\n",
    "import pandas as pd\n",
    "\n",
    "df = pd.read_csv('plasmids.csv')\n",
    "df = map_species(df)\n",
    "print(df[['id', 'species']].head())\n"
   ]
  },
  {
   "cell_type": "code",
   "execution_count": 41,
   "id": "f0e523b6",
   "metadata": {},
   "outputs": [
    {
     "data": {
      "text/html": [
       "<div>\n",
       "<style scoped>\n",
       "    .dataframe tbody tr th:only-of-type {\n",
       "        vertical-align: middle;\n",
       "    }\n",
       "\n",
       "    .dataframe tbody tr th {\n",
       "        vertical-align: top;\n",
       "    }\n",
       "\n",
       "    .dataframe thead th {\n",
       "        text-align: right;\n",
       "    }\n",
       "</style>\n",
       "<table border=\"1\" class=\"dataframe\">\n",
       "  <thead>\n",
       "    <tr style=\"text-align: right;\">\n",
       "      <th></th>\n",
       "      <th>id</th>\n",
       "      <th>sequence</th>\n",
       "      <th>species</th>\n",
       "    </tr>\n",
       "  </thead>\n",
       "  <tbody>\n",
       "    <tr>\n",
       "      <th>0</th>\n",
       "      <td>NC_001988.2</td>\n",
       "      <td>GATTGTATAATGCAATTATAGCATATTTAGGAGGTATTTAAAATGA...</td>\n",
       "      <td>Clostridium acetobutylicum ATCC 824</td>\n",
       "    </tr>\n",
       "    <tr>\n",
       "      <th>1</th>\n",
       "      <td>NC_009131.1</td>\n",
       "      <td>CAGATCAACAAAGGCCACAAACGCCGCTTCGTTTCCTTCCTCGCGG...</td>\n",
       "      <td>Escherichia coli</td>\n",
       "    </tr>\n",
       "    <tr>\n",
       "      <th>2</th>\n",
       "      <td>NC_019098.1</td>\n",
       "      <td>GTAGAGTTTCAGGGTAACAGGGGATGTTTATGTCGGTTTTCCACAA...</td>\n",
       "      <td>Escherichia coli</td>\n",
       "    </tr>\n",
       "    <tr>\n",
       "      <th>3</th>\n",
       "      <td>NC_020278.2</td>\n",
       "      <td>CTTCGCGTTGCTCAGTTGTCCAACCCCGGAAACGGGAAAAAGCAAG...</td>\n",
       "      <td>Escherichia coli</td>\n",
       "    </tr>\n",
       "    <tr>\n",
       "      <th>4</th>\n",
       "      <td>NC_022374.1</td>\n",
       "      <td>ATGGATAAGTTGCTGAACAAAAAGATAAAAGTTAAGCAGTCTAACG...</td>\n",
       "      <td>Escherichia coli</td>\n",
       "    </tr>\n",
       "  </tbody>\n",
       "</table>\n",
       "</div>"
      ],
      "text/plain": [
       "            id                                           sequence  \\\n",
       "0  NC_001988.2  GATTGTATAATGCAATTATAGCATATTTAGGAGGTATTTAAAATGA...   \n",
       "1  NC_009131.1  CAGATCAACAAAGGCCACAAACGCCGCTTCGTTTCCTTCCTCGCGG...   \n",
       "2  NC_019098.1  GTAGAGTTTCAGGGTAACAGGGGATGTTTATGTCGGTTTTCCACAA...   \n",
       "3  NC_020278.2  CTTCGCGTTGCTCAGTTGTCCAACCCCGGAAACGGGAAAAAGCAAG...   \n",
       "4  NC_022374.1  ATGGATAAGTTGCTGAACAAAAAGATAAAAGTTAAGCAGTCTAACG...   \n",
       "\n",
       "                               species  \n",
       "0  Clostridium acetobutylicum ATCC 824  \n",
       "1                     Escherichia coli  \n",
       "2                     Escherichia coli  \n",
       "3                     Escherichia coli  \n",
       "4                     Escherichia coli  "
      ]
     },
     "execution_count": 41,
     "metadata": {},
     "output_type": "execute_result"
    }
   ],
   "source": [
    "df.head()"
   ]
  },
  {
   "cell_type": "code",
   "execution_count": 42,
   "id": "39569229",
   "metadata": {},
   "outputs": [],
   "source": [
    "df=df.to_csv('updated_plasmids.csv')"
   ]
  }
 ],
 "metadata": {
  "kernelspec": {
   "display_name": "venv",
   "language": "python",
   "name": "python3"
  },
  "language_info": {
   "codemirror_mode": {
    "name": "ipython",
    "version": 3
   },
   "file_extension": ".py",
   "mimetype": "text/x-python",
   "name": "python",
   "nbconvert_exporter": "python",
   "pygments_lexer": "ipython3",
   "version": "3.13.5"
  }
 },
 "nbformat": 4,
 "nbformat_minor": 5
}
